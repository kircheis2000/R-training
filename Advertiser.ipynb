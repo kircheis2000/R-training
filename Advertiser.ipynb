{
 "cells": [
  {
   "cell_type": "markdown",
   "metadata": {},
   "source": [
    "\n",
    "Advertiser spend and ROI metrics\n",
    "  \n",
    "\n",
    "\n",
    "Given the following two tables:\n",
    "◦Advertiser info table with columns advertiser_id, ad_id and spend, where spend is what the advertiser paid for this ad.\n",
    "◦Ad info table with columns ad_id, user_id and price, where price is how much the user_id spend through this ad., assuming all prices > 0.\n",
    "\n",
    "Questions\n",
    "◦The fraction of advertisers has at least one conversion.\n",
    "◦What metrics would you show to advertisers.\n"
   ]
  },
  {
   "cell_type": "code",
   "execution_count": 1,
   "metadata": {
    "collapsed": true
   },
   "outputs": [],
   "source": [
    "import pandas as pd\n",
    "import pandasql as pdsql"
   ]
  },
  {
   "cell_type": "code",
   "execution_count": 61,
   "metadata": {
    "collapsed": true
   },
   "outputs": [],
   "source": [
    "advertiser_info = pd.read_csv(\"advertiser_info.csv\")\n",
    "ad_info = pd.read_csv(\"ad_info.csv\")"
   ]
  },
  {
   "cell_type": "code",
   "execution_count": 11,
   "metadata": {
    "collapsed": true
   },
   "outputs": [],
   "source": [
    "pysql = lambda q: pdsql.sqldf(q, globals())"
   ]
  },
  {
   "cell_type": "code",
   "execution_count": 62,
   "metadata": {
    "collapsed": false
   },
   "outputs": [
    {
     "data": {
      "text/html": [
       "<div>\n",
       "<table border=\"1\" class=\"dataframe\">\n",
       "  <thead>\n",
       "    <tr style=\"text-align: right;\">\n",
       "      <th></th>\n",
       "      <th>fraction</th>\n",
       "    </tr>\n",
       "  </thead>\n",
       "  <tbody>\n",
       "    <tr>\n",
       "      <th>0</th>\n",
       "      <td>0.666667</td>\n",
       "    </tr>\n",
       "  </tbody>\n",
       "</table>\n",
       "</div>"
      ],
      "text/plain": [
       "   fraction\n",
       "0  0.666667"
      ]
     },
     "execution_count": 62,
     "metadata": {},
     "output_type": "execute_result"
    }
   ],
   "source": [
    "sql = \"\"\"\n",
    "        select cast(sum(case when convert > 0 then 1 else 0 end) as float)/ cast(count(distinct advertiser_id) as float) as fraction\n",
    "        from\n",
    "        (\n",
    "        select \n",
    "            advertiser_id\n",
    "            , sum(case when ad.ad_id is not null then 1 else 0 end) as convert \n",
    "        from advertiser_info adv\n",
    "        left join ad_info ad\n",
    "        on adv.ad_id = ad.ad_id\n",
    "        group by advertiser_id)\n",
    "        \"\"\"\n",
    "df = pysql(sql)\n",
    "df"
   ]
  },
  {
   "cell_type": "code",
   "execution_count": 63,
   "metadata": {
    "collapsed": false
   },
   "outputs": [
    {
     "data": {
      "text/plain": [
       "0.6666666666666666"
      ]
     },
     "execution_count": 63,
     "metadata": {},
     "output_type": "execute_result"
    }
   ],
   "source": [
    "# With conversion\n",
    "conversion = advertiser_info.merge(ad_info, left_on = \"ad_id\",right_on = \"ad_id\", how = \"inner\")\n",
    "float(conversion[\"advertiser_id\"].nunique())/advertiser_info[\"advertiser_id\"].nunique()"
   ]
  },
  {
   "cell_type": "code",
   "execution_count": 64,
   "metadata": {
    "collapsed": false
   },
   "outputs": [],
   "source": [
    "# ROI\n",
    "sql_ROI = \"\"\"\n",
    "            select \n",
    "                advertiser_id\n",
    "                , sum(case when adv.spend is null then 0 else adv.spend end) as tot_spend\n",
    "                , sum(case when ad.price is null then 0 else ad.price end) as tot_return\n",
    "                , (cast(sum(case when ad.price is null then 0 else ad.price end) as float)/ cast(sum(case when adv.spend is null then 0 else adv.spend end) as float) -1) as ROI \n",
    "            from advertiser_info adv\n",
    "            left join ad_info ad\n",
    "            on adv.ad_id = ad.ad_id\n",
    "            group by advertiser_id\n",
    "            \"\"\"\n",
    "df2 = pysql(sql_ROI)"
   ]
  },
  {
   "cell_type": "code",
   "execution_count": 65,
   "metadata": {
    "collapsed": false
   },
   "outputs": [
    {
     "data": {
      "text/html": [
       "<div>\n",
       "<table border=\"1\" class=\"dataframe\">\n",
       "  <thead>\n",
       "    <tr style=\"text-align: right;\">\n",
       "      <th></th>\n",
       "      <th>advertiser_id</th>\n",
       "      <th>tot_spend</th>\n",
       "      <th>tot_return</th>\n",
       "      <th>ROI</th>\n",
       "    </tr>\n",
       "  </thead>\n",
       "  <tbody>\n",
       "    <tr>\n",
       "      <th>0</th>\n",
       "      <td>1</td>\n",
       "      <td>2000.0</td>\n",
       "      <td>1070</td>\n",
       "      <td>-0.465000</td>\n",
       "    </tr>\n",
       "    <tr>\n",
       "      <th>1</th>\n",
       "      <td>2</td>\n",
       "      <td>1000.0</td>\n",
       "      <td>0</td>\n",
       "      <td>-1.000000</td>\n",
       "    </tr>\n",
       "    <tr>\n",
       "      <th>2</th>\n",
       "      <td>3</td>\n",
       "      <td>6000.0</td>\n",
       "      <td>4000</td>\n",
       "      <td>-0.333333</td>\n",
       "    </tr>\n",
       "  </tbody>\n",
       "</table>\n",
       "</div>"
      ],
      "text/plain": [
       "   advertiser_id  tot_spend  tot_return       ROI\n",
       "0              1     2000.0        1070 -0.465000\n",
       "1              2     1000.0           0 -1.000000\n",
       "2              3     6000.0        4000 -0.333333"
      ]
     },
     "execution_count": 65,
     "metadata": {},
     "output_type": "execute_result"
    }
   ],
   "source": [
    "df2"
   ]
  },
  {
   "cell_type": "code",
   "execution_count": 86,
   "metadata": {
    "collapsed": false
   },
   "outputs": [],
   "source": [
    "import numpy as np\n",
    "adv_all = advertiser_info.merge(ad_info, left_on = \"ad_id\", right_on = \"ad_id\", how = \"left\", indicator = True)\n",
    "adv_all[\"spend\"] = adv_all[\"spend\"].fillna(0)\n",
    "adv_all[\"price\"] = adv_all[\"price\"].fillna(0)\n",
    "ROI = adv_all[[\"advertiser_id\",\"spend\",\"price\"]].groupby(\"advertiser_id\").sum().reset_index()\n",
    "ROI[\"ROI\"] = ROI[\"price\"].astype(float)/ ROI[\"spend\"].astype(float) - 1.0"
   ]
  },
  {
   "cell_type": "code",
   "execution_count": 88,
   "metadata": {
    "collapsed": false
   },
   "outputs": [
    {
     "data": {
      "text/html": [
       "<div>\n",
       "<table border=\"1\" class=\"dataframe\">\n",
       "  <thead>\n",
       "    <tr style=\"text-align: right;\">\n",
       "      <th></th>\n",
       "      <th>advertiser_id</th>\n",
       "      <th>price</th>\n",
       "      <th>spend</th>\n",
       "    </tr>\n",
       "  </thead>\n",
       "  <tbody>\n",
       "    <tr>\n",
       "      <th>0</th>\n",
       "      <td>1</td>\n",
       "      <td>1070.0</td>\n",
       "      <td>2000.0</td>\n",
       "    </tr>\n",
       "    <tr>\n",
       "      <th>1</th>\n",
       "      <td>2</td>\n",
       "      <td>0.0</td>\n",
       "      <td>1000.0</td>\n",
       "    </tr>\n",
       "    <tr>\n",
       "      <th>2</th>\n",
       "      <td>3</td>\n",
       "      <td>4000.0</td>\n",
       "      <td>6000.0</td>\n",
       "    </tr>\n",
       "  </tbody>\n",
       "</table>\n",
       "</div>"
      ],
      "text/plain": [
       "   advertiser_id   price   spend\n",
       "0              1  1070.0  2000.0\n",
       "1              2     0.0  1000.0\n",
       "2              3  4000.0  6000.0"
      ]
     },
     "execution_count": 88,
     "metadata": {},
     "output_type": "execute_result"
    }
   ],
   "source": [
    "ROI2 = adv_all.groupby(\"advertiser_id\").agg({\"spend\": np.sum, \"price\": np.sum}).reset_index()\n",
    "ROI2"
   ]
  },
  {
   "cell_type": "code",
   "execution_count": 105,
   "metadata": {
    "collapsed": false
   },
   "outputs": [
    {
     "data": {
      "text/html": [
       "<div>\n",
       "<table border=\"1\" class=\"dataframe\">\n",
       "  <thead>\n",
       "    <tr style=\"text-align: right;\">\n",
       "      <th></th>\n",
       "      <th>advertiser_id</th>\n",
       "      <th>price</th>\n",
       "      <th>spend</th>\n",
       "    </tr>\n",
       "  </thead>\n",
       "  <tbody>\n",
       "    <tr>\n",
       "      <th>0</th>\n",
       "      <td>1</td>\n",
       "      <td>1070.0</td>\n",
       "      <td>2000.0</td>\n",
       "    </tr>\n",
       "    <tr>\n",
       "      <th>1</th>\n",
       "      <td>2</td>\n",
       "      <td>0.0</td>\n",
       "      <td>1000.0</td>\n",
       "    </tr>\n",
       "    <tr>\n",
       "      <th>2</th>\n",
       "      <td>3</td>\n",
       "      <td>4000.0</td>\n",
       "      <td>6000.0</td>\n",
       "    </tr>\n",
       "  </tbody>\n",
       "</table>\n",
       "</div>"
      ],
      "text/plain": [
       "   advertiser_id   price   spend\n",
       "0              1  1070.0  2000.0\n",
       "1              2     0.0  1000.0\n",
       "2              3  4000.0  6000.0"
      ]
     },
     "execution_count": 105,
     "metadata": {},
     "output_type": "execute_result"
    }
   ],
   "source": [
    "ROI3 = adv_all.pivot_table(index = \"advertiser_id\", values = [\"price\",\"spend\"], aggfunc = np.sum).reset_index()\n",
    "ROI3"
   ]
  },
  {
   "cell_type": "code",
   "execution_count": 83,
   "metadata": {
    "collapsed": false
   },
   "outputs": [
    {
     "data": {
      "text/plain": [
       "advertiser_id      int64\n",
       "spend            float64\n",
       "price            float64\n",
       "%Return          float64\n",
       "dtype: object"
      ]
     },
     "execution_count": 83,
     "metadata": {},
     "output_type": "execute_result"
    }
   ],
   "source": [
    "ROI.dtypes"
   ]
  }
 ],
 "metadata": {
  "kernelspec": {
   "display_name": "Python 2",
   "language": "python",
   "name": "python2"
  },
  "language_info": {
   "codemirror_mode": {
    "name": "ipython",
    "version": 2
   },
   "file_extension": ".py",
   "mimetype": "text/x-python",
   "name": "python",
   "nbconvert_exporter": "python",
   "pygments_lexer": "ipython2",
   "version": "2.7.13"
  }
 },
 "nbformat": 4,
 "nbformat_minor": 2
}
