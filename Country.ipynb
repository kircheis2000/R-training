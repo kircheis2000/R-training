{
 "cells": [
  {
   "cell_type": "markdown",
   "metadata": {},
   "source": [
    "Question: find the largest country (in terms ofpopulation) in each continent using the table below. \n",
    "Show the continent, the country name and the population in descending order (the largest country comesfirst)\n",
    "\n",
    "Which country accounts for the majority of itscontinent's population?\n",
    "-- (continent, country, population, perc_continent)\n",
    "-- (Oceania, Australia, 24309330, 60.9235701)"
   ]
  },
  {
   "cell_type": "code",
   "execution_count": 7,
   "metadata": {
    "collapsed": true
   },
   "outputs": [],
   "source": [
    "import pandas as pd\n",
    "import pandasql as pdsql"
   ]
  },
  {
   "cell_type": "code",
   "execution_count": 5,
   "metadata": {
    "collapsed": false
   },
   "outputs": [],
   "source": [
    "pop = pd.read_csv(\"population.csv\")"
   ]
  },
  {
   "cell_type": "code",
   "execution_count": 10,
   "metadata": {
    "collapsed": false
   },
   "outputs": [],
   "source": [
    "pysql = lambda q: pdsql.sqldf(q, globals())\n",
    "sql = \"\"\"select bs.*\n",
    "            from pop bs\n",
    "            inner join\n",
    "            (select continent, max(population) as max_pop\n",
    "             from pop\n",
    "             group by continent) max\n",
    "            on bs.continent = max.continent and bs.population = max.max_pop\n",
    "            order by population desc\n",
    "        \"\"\"\n",
    "df = pysql(sql)"
   ]
  },
  {
   "cell_type": "code",
   "execution_count": 11,
   "metadata": {
    "collapsed": false
   },
   "outputs": [
    {
     "data": {
      "text/html": [
       "<div>\n",
       "<table border=\"1\" class=\"dataframe\">\n",
       "  <thead>\n",
       "    <tr style=\"text-align: right;\">\n",
       "      <th></th>\n",
       "      <th>Continent</th>\n",
       "      <th>Country</th>\n",
       "      <th>Population</th>\n",
       "    </tr>\n",
       "  </thead>\n",
       "  <tbody>\n",
       "    <tr>\n",
       "      <th>0</th>\n",
       "      <td>Asia</td>\n",
       "      <td>China</td>\n",
       "      <td>1382323332</td>\n",
       "    </tr>\n",
       "    <tr>\n",
       "      <th>1</th>\n",
       "      <td>North America</td>\n",
       "      <td>US</td>\n",
       "      <td>324118787</td>\n",
       "    </tr>\n",
       "  </tbody>\n",
       "</table>\n",
       "</div>"
      ],
      "text/plain": [
       "       Continent Country  Population\n",
       "0           Asia   China  1382323332\n",
       "1  North America      US   324118787"
      ]
     },
     "execution_count": 11,
     "metadata": {},
     "output_type": "execute_result"
    }
   ],
   "source": [
    "df"
   ]
  },
  {
   "cell_type": "code",
   "execution_count": 18,
   "metadata": {
    "collapsed": false
   },
   "outputs": [],
   "source": [
    "# Python\n",
    "max_pop = pop.sort_values(by = [\"Continent\",\"Population\"], ascending = False).drop_duplicates(['Continent'], keep = 'first')\n",
    "max_pop.sort_values(by = \"Population\", ascending = False, inplace = True)"
   ]
  },
  {
   "cell_type": "code",
   "execution_count": 19,
   "metadata": {
    "collapsed": false
   },
   "outputs": [
    {
     "data": {
      "text/html": [
       "<div>\n",
       "<table border=\"1\" class=\"dataframe\">\n",
       "  <thead>\n",
       "    <tr style=\"text-align: right;\">\n",
       "      <th></th>\n",
       "      <th>Continent</th>\n",
       "      <th>Country</th>\n",
       "      <th>Population</th>\n",
       "    </tr>\n",
       "  </thead>\n",
       "  <tbody>\n",
       "    <tr>\n",
       "      <th>3</th>\n",
       "      <td>Asia</td>\n",
       "      <td>China</td>\n",
       "      <td>1382323332</td>\n",
       "    </tr>\n",
       "    <tr>\n",
       "      <th>1</th>\n",
       "      <td>North America</td>\n",
       "      <td>US</td>\n",
       "      <td>324118787</td>\n",
       "    </tr>\n",
       "  </tbody>\n",
       "</table>\n",
       "</div>"
      ],
      "text/plain": [
       "       Continent Country  Population\n",
       "3           Asia   China  1382323332\n",
       "1  North America      US   324118787"
      ]
     },
     "execution_count": 19,
     "metadata": {},
     "output_type": "execute_result"
    }
   ],
   "source": [
    "max_pop"
   ]
  },
  {
   "cell_type": "code",
   "execution_count": 51,
   "metadata": {
    "collapsed": false
   },
   "outputs": [],
   "source": [
    "sql2 = \"\"\" select\n",
    "                 bs.continent\n",
    "                 , bs.Country\n",
    "                 , bs.Population\n",
    "                 , sum.tot_pop\n",
    "                 , bs.Population/ sum.tot_pop * 100 as perc_continent\n",
    "            from pop bs\n",
    "            inner join\n",
    "            (select continent, sum(population) as tot_pop\n",
    "                from pop\n",
    "                group by continent) sum\n",
    "            on bs.continent = sum.continent\n",
    "            \n",
    "        \"\"\"\n",
    "df2 = pysql(sql2)"
   ]
  },
  {
   "cell_type": "code",
   "execution_count": 52,
   "metadata": {
    "collapsed": false
   },
   "outputs": [
    {
     "data": {
      "text/html": [
       "<div>\n",
       "<table border=\"1\" class=\"dataframe\">\n",
       "  <thead>\n",
       "    <tr style=\"text-align: right;\">\n",
       "      <th></th>\n",
       "      <th>Continent</th>\n",
       "      <th>Country</th>\n",
       "      <th>Population</th>\n",
       "      <th>tot_pop</th>\n",
       "      <th>perc_continent</th>\n",
       "    </tr>\n",
       "  </thead>\n",
       "  <tbody>\n",
       "    <tr>\n",
       "      <th>0</th>\n",
       "      <td>North America</td>\n",
       "      <td>Canada</td>\n",
       "      <td>36286378</td>\n",
       "      <td>489037169</td>\n",
       "      <td>0</td>\n",
       "    </tr>\n",
       "    <tr>\n",
       "      <th>1</th>\n",
       "      <td>North America</td>\n",
       "      <td>US</td>\n",
       "      <td>324118787</td>\n",
       "      <td>489037169</td>\n",
       "      <td>0</td>\n",
       "    </tr>\n",
       "    <tr>\n",
       "      <th>2</th>\n",
       "      <td>North America</td>\n",
       "      <td>Mexico</td>\n",
       "      <td>128632004</td>\n",
       "      <td>489037169</td>\n",
       "      <td>0</td>\n",
       "    </tr>\n",
       "    <tr>\n",
       "      <th>3</th>\n",
       "      <td>Asia</td>\n",
       "      <td>China</td>\n",
       "      <td>1382323332</td>\n",
       "      <td>2803569108</td>\n",
       "      <td>0</td>\n",
       "    </tr>\n",
       "    <tr>\n",
       "      <th>4</th>\n",
       "      <td>Asia</td>\n",
       "      <td>India</td>\n",
       "      <td>1326801576</td>\n",
       "      <td>2803569108</td>\n",
       "      <td>0</td>\n",
       "    </tr>\n",
       "    <tr>\n",
       "      <th>5</th>\n",
       "      <td>Asia</td>\n",
       "      <td>Vietnam</td>\n",
       "      <td>94444200</td>\n",
       "      <td>2803569108</td>\n",
       "      <td>0</td>\n",
       "    </tr>\n",
       "  </tbody>\n",
       "</table>\n",
       "</div>"
      ],
      "text/plain": [
       "       Continent  Country  Population     tot_pop  perc_continent\n",
       "0  North America   Canada    36286378   489037169               0\n",
       "1  North America       US   324118787   489037169               0\n",
       "2  North America   Mexico   128632004   489037169               0\n",
       "3           Asia    China  1382323332  2803569108               0\n",
       "4           Asia    India  1326801576  2803569108               0\n",
       "5           Asia  Vietnam    94444200  2803569108               0"
      ]
     },
     "execution_count": 52,
     "metadata": {},
     "output_type": "execute_result"
    }
   ],
   "source": [
    "df2"
   ]
  },
  {
   "cell_type": "code",
   "execution_count": 38,
   "metadata": {
    "collapsed": false
   },
   "outputs": [
    {
     "data": {
      "text/html": [
       "<div>\n",
       "<table border=\"1\" class=\"dataframe\">\n",
       "  <thead>\n",
       "    <tr style=\"text-align: right;\">\n",
       "      <th></th>\n",
       "      <th>Continent</th>\n",
       "      <th>Country</th>\n",
       "      <th>Population</th>\n",
       "      <th>tot_pop</th>\n",
       "      <th>perc_continent</th>\n",
       "    </tr>\n",
       "  </thead>\n",
       "  <tbody>\n",
       "    <tr>\n",
       "      <th>0</th>\n",
       "      <td>North America</td>\n",
       "      <td>Canada</td>\n",
       "      <td>36286378</td>\n",
       "      <td>489037169</td>\n",
       "      <td>7.419963</td>\n",
       "    </tr>\n",
       "    <tr>\n",
       "      <th>1</th>\n",
       "      <td>North America</td>\n",
       "      <td>US</td>\n",
       "      <td>324118787</td>\n",
       "      <td>489037169</td>\n",
       "      <td>66.276923</td>\n",
       "    </tr>\n",
       "    <tr>\n",
       "      <th>2</th>\n",
       "      <td>North America</td>\n",
       "      <td>Mexico</td>\n",
       "      <td>128632004</td>\n",
       "      <td>489037169</td>\n",
       "      <td>26.303114</td>\n",
       "    </tr>\n",
       "    <tr>\n",
       "      <th>3</th>\n",
       "      <td>Asia</td>\n",
       "      <td>China</td>\n",
       "      <td>1382323332</td>\n",
       "      <td>2803569108</td>\n",
       "      <td>49.305841</td>\n",
       "    </tr>\n",
       "    <tr>\n",
       "      <th>4</th>\n",
       "      <td>Asia</td>\n",
       "      <td>India</td>\n",
       "      <td>1326801576</td>\n",
       "      <td>2803569108</td>\n",
       "      <td>47.325446</td>\n",
       "    </tr>\n",
       "    <tr>\n",
       "      <th>5</th>\n",
       "      <td>Asia</td>\n",
       "      <td>Vietnam</td>\n",
       "      <td>94444200</td>\n",
       "      <td>2803569108</td>\n",
       "      <td>3.368713</td>\n",
       "    </tr>\n",
       "  </tbody>\n",
       "</table>\n",
       "</div>"
      ],
      "text/plain": [
       "       Continent  Country  Population     tot_pop  perc_continent\n",
       "0  North America   Canada    36286378   489037169        7.419963\n",
       "1  North America       US   324118787   489037169       66.276923\n",
       "2  North America   Mexico   128632004   489037169       26.303114\n",
       "3           Asia    China  1382323332  2803569108       49.305841\n",
       "4           Asia    India  1326801576  2803569108       47.325446\n",
       "5           Asia  Vietnam    94444200  2803569108        3.368713"
      ]
     },
     "execution_count": 38,
     "metadata": {},
     "output_type": "execute_result"
    }
   ],
   "source": [
    "df2[\"perc_continent\"] = df2.Population/ df2.tot_pop * 100"
   ]
  },
  {
   "cell_type": "code",
   "execution_count": 49,
   "metadata": {
    "collapsed": false
   },
   "outputs": [
    {
     "data": {
      "text/html": [
       "<div>\n",
       "<table border=\"1\" class=\"dataframe\">\n",
       "  <thead>\n",
       "    <tr style=\"text-align: right;\">\n",
       "      <th></th>\n",
       "      <th>Continent</th>\n",
       "      <th>Country</th>\n",
       "      <th>Population</th>\n",
       "      <th>perc_continent</th>\n",
       "    </tr>\n",
       "  </thead>\n",
       "  <tbody>\n",
       "    <tr>\n",
       "      <th>1</th>\n",
       "      <td>North America</td>\n",
       "      <td>US</td>\n",
       "      <td>324118787</td>\n",
       "      <td>66.276923</td>\n",
       "    </tr>\n",
       "  </tbody>\n",
       "</table>\n",
       "</div>"
      ],
      "text/plain": [
       "       Continent Country  Population  perc_continent\n",
       "1  North America      US   324118787       66.276923"
      ]
     },
     "execution_count": 49,
     "metadata": {},
     "output_type": "execute_result"
    }
   ],
   "source": [
    "# Python\n",
    "continent_pop = pop.groupby(\"Continent\")[\"Population\"].sum().to_frame().reset_index().rename(columns = {\"Population\": \"total_pop\"})\n",
    "continent_top = pop.merge(continent_pop, left_on = \"Continent\", right_on = \"Continent\", how = \"inner\")\n",
    "continent_top[\"perc_continent\"] = continent_top.Population/ continent_top.total_pop * 100\n",
    "continent_top.drop(\"total_pop\", axis = 1).sort_values(\"perc_continent\", ascending = False).head(1)"
   ]
  },
  {
   "cell_type": "code",
   "execution_count": 47,
   "metadata": {
    "collapsed": false
   },
   "outputs": [
    {
     "data": {
      "text/html": [
       "<div>\n",
       "<table border=\"1\" class=\"dataframe\">\n",
       "  <thead>\n",
       "    <tr style=\"text-align: right;\">\n",
       "      <th></th>\n",
       "      <th>Continent</th>\n",
       "      <th>Country</th>\n",
       "      <th>Population</th>\n",
       "      <th>total_Pop</th>\n",
       "    </tr>\n",
       "  </thead>\n",
       "  <tbody>\n",
       "    <tr>\n",
       "      <th>0</th>\n",
       "      <td>North America</td>\n",
       "      <td>Canada</td>\n",
       "      <td>36286378</td>\n",
       "      <td>489037169</td>\n",
       "    </tr>\n",
       "    <tr>\n",
       "      <th>1</th>\n",
       "      <td>North America</td>\n",
       "      <td>US</td>\n",
       "      <td>324118787</td>\n",
       "      <td>489037169</td>\n",
       "    </tr>\n",
       "    <tr>\n",
       "      <th>2</th>\n",
       "      <td>North America</td>\n",
       "      <td>Mexico</td>\n",
       "      <td>128632004</td>\n",
       "      <td>489037169</td>\n",
       "    </tr>\n",
       "    <tr>\n",
       "      <th>3</th>\n",
       "      <td>Asia</td>\n",
       "      <td>China</td>\n",
       "      <td>1382323332</td>\n",
       "      <td>2803569108</td>\n",
       "    </tr>\n",
       "    <tr>\n",
       "      <th>4</th>\n",
       "      <td>Asia</td>\n",
       "      <td>India</td>\n",
       "      <td>1326801576</td>\n",
       "      <td>2803569108</td>\n",
       "    </tr>\n",
       "    <tr>\n",
       "      <th>5</th>\n",
       "      <td>Asia</td>\n",
       "      <td>Vietnam</td>\n",
       "      <td>94444200</td>\n",
       "      <td>2803569108</td>\n",
       "    </tr>\n",
       "  </tbody>\n",
       "</table>\n",
       "</div>"
      ],
      "text/plain": [
       "       Continent  Country  Population   total_Pop\n",
       "0  North America   Canada    36286378   489037169\n",
       "1  North America       US   324118787   489037169\n",
       "2  North America   Mexico   128632004   489037169\n",
       "3           Asia    China  1382323332  2803569108\n",
       "4           Asia    India  1326801576  2803569108\n",
       "5           Asia  Vietnam    94444200  2803569108"
      ]
     },
     "execution_count": 47,
     "metadata": {},
     "output_type": "execute_result"
    }
   ],
   "source": [
    "continent_top"
   ]
  }
 ],
 "metadata": {
  "kernelspec": {
   "display_name": "Python 2",
   "language": "python",
   "name": "python2"
  },
  "language_info": {
   "codemirror_mode": {
    "name": "ipython",
    "version": 2
   },
   "file_extension": ".py",
   "mimetype": "text/x-python",
   "name": "python",
   "nbconvert_exporter": "python",
   "pygments_lexer": "ipython2",
   "version": "2.7.13"
  }
 },
 "nbformat": 4,
 "nbformat_minor": 2
}
